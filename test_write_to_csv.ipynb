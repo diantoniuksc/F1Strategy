{
 "cells": [
  {
   "cell_type": "code",
   "execution_count": 16,
   "id": "f4341000",
   "metadata": {},
   "outputs": [],
   "source": [
    "import csv\n",
    "\n",
    "def write_data_to_csv():\n",
    "    with open('testcsvformat.csv', 'w', newline='') as csvfile:\n",
    "        csv_writer = csv.writer(csvfile, delimiter=',')\n",
    "        csv_writer.writerow(['driver_id'] + ['team_id'] + ['gp_number'] + ['year']\n",
    "                            + ['compound'] + ['laps_before'] + ['laps_on_compound'])\n",
    "\n",
    "        csv_writer.writerow(['MV', 'RB', '7', '2023', 'C3', '0', '21'])\n",
    "\n",
    "write_data_to_csv()"
   ]
  }
 ],
 "metadata": {
  "kernelspec": {
   "display_name": "venv",
   "language": "python",
   "name": "python3"
  },
  "language_info": {
   "codemirror_mode": {
    "name": "ipython",
    "version": 3
   },
   "file_extension": ".py",
   "mimetype": "text/x-python",
   "name": "python",
   "nbconvert_exporter": "python",
   "pygments_lexer": "ipython3",
   "version": "3.11.9"
  }
 },
 "nbformat": 4,
 "nbformat_minor": 5
}
